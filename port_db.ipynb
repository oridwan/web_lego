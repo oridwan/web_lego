{
 "cells": [
  {
   "cell_type": "code",
   "execution_count": 5,
   "metadata": {},
   "outputs": [],
   "source": [
    "import sqlite3\n",
    "\n",
    "Materials_dict = {\n",
    "     'Material_ID': [],\n",
    "     'Formula': [],\n",
    "     'Z': [],\n",
    "     'Space_group': [],\n",
    "     'Spg#': [],\n",
    "     'Prototype': [],\n",
    "     'Nodal Line':[],\n",
    "     'Nodal Ring Point':[],\n",
    "     'Weyl Point':[],\n",
    "     'Link': [],\n",
    "    }\n",
    "\n",
    "con = sqlite3.connect('test.db') \n",
    "cur = con.cursor()\n",
    "sql = \"\"\"SELECT Material_id,\n",
    "      Space_group,\n",
    "      International_number,\n",
    "      Formula,\n",
    "      Z,\n",
    "      Prototype\n",
    "      FROM Materials\"\"\"\n",
    "\n",
    "cur.execute(sql)\n",
    "rows = cur.fetchall()"
   ]
  },
  {
   "cell_type": "code",
   "execution_count": 8,
   "metadata": {},
   "outputs": [
    {
     "data": {
      "text/plain": [
       "[('mp-1025441', 'P6_3/mmc', 194, 'Ta2AlC', 8, 'Ta2AlC'),\n",
       " ('mp-1025517', 'P6_3/mmc', 194, 'Ti2InN', 8, 'Ta2AlC'),\n",
       " ('mp-1078712', 'P6_3/mmc', 194, 'Hf2TlC', 8, 'BaCeN2')]"
      ]
     },
     "execution_count": 8,
     "metadata": {},
     "output_type": "execute_result"
    }
   ],
   "source": [
    "rows[0:3]"
   ]
  },
  {
   "cell_type": "code",
   "execution_count": null,
   "metadata": {},
   "outputs": [],
   "source": []
  },
  {
   "cell_type": "code",
   "execution_count": null,
   "metadata": {},
   "outputs": [],
   "source": [
    "tables = ['Materials', 'Nodal_lines', 'Nodal_ring_points', 'Nodal_ring_points2', 'Weyl_points', 'Clean_materials']\n",
    "data = [0]*len(tables)\n",
    "for i, table in enumerate(tables):\n",
    "    cur.execute(\"SELECT * from {:}\".format(table))\n",
    "    data[i] = len(cur.fetchall())\n",
    "\n",
    "for row in rows:\n",
    "    (mid, spg, number, formula, Z, prototype) = row\n",
    "    Materials_dict['Material_ID'].append(mid)\n",
    "    Materials_dict['Formula'].append(formula)\n",
    "    Materials_dict['Space_group'].append(spg)\n",
    "    Materials_dict['Spg#'].append(number)\n",
    "    Materials_dict['Prototype'].append(prototype)\n",
    "    Materials_dict['Z'].append(Z)\n",
    "    link = '<a href=htmls/materials/' + mid + '.html>detail </a>' \n",
    "    Materials_dict['Link'].append(link)\n",
    "    stat = [0]*4\n",
    "    for i, table in enumerate(tables[1:-1]):\n",
    "        cur.execute(\"SELECT * from {:} WHERE Material_id = '{:}'\".format(table, mid))\n",
    "        stat[i] = len(cur.fetchall())\n",
    "    Materials_dict['Nodal Line'].append(stat[0])\n",
    "    Materials_dict['Nodal Ring Point'].append(stat[1]+stat[2])\n",
    "    Materials_dict['Weyl Point'].append(stat[3])\n",
    "\n",
    "cur.close()"
   ]
  }
 ],
 "metadata": {
  "kernelspec": {
   "display_name": "Python 3",
   "language": "python",
   "name": "python3"
  },
  "language_info": {
   "codemirror_mode": {
    "name": "ipython",
    "version": 3
   },
   "file_extension": ".py",
   "mimetype": "text/x-python",
   "name": "python",
   "nbconvert_exporter": "python",
   "pygments_lexer": "ipython3",
   "version": "3.7.3"
  }
 },
 "nbformat": 4,
 "nbformat_minor": 4
}
